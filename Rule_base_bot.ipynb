{
  "nbformat": 4,
  "nbformat_minor": 0,
  "metadata": {
    "colab": {
      "provenance": [],
      "authorship_tag": "ABX9TyNce1/bOD6ynrFr4zSaa6Dw",
      "include_colab_link": true
    },
    "kernelspec": {
      "name": "python3",
      "display_name": "Python 3"
    },
    "language_info": {
      "name": "python"
    }
  },
  "cells": [
    {
      "cell_type": "markdown",
      "metadata": {
        "id": "view-in-github",
        "colab_type": "text"
      },
      "source": [
        "<a href=\"https://colab.research.google.com/github/Vanshikaa1444/Rule_based_bot/blob/main/Rule_base_bot.ipynb\" target=\"_parent\"><img src=\"https://colab.research.google.com/assets/colab-badge.svg\" alt=\"Open In Colab\"/></a>"
      ]
    },
    {
      "cell_type": "code",
      "execution_count": 1,
      "metadata": {
        "id": "lH3sgiMFxs0q"
      },
      "outputs": [],
      "source": [
        "import random\n",
        "import re"
      ]
    },
    {
      "cell_type": "code",
      "source": [
        "class Rulebot:\n",
        "\n",
        "### Potential Negative Responses\n",
        "\n",
        "  negative_responses = (\"no\", \"nope\", \"nah\", \"naw\", \"not a chance\", \"sorry\")\n",
        "\n",
        "### Exit conversation Keywords\n",
        "\n",
        "  exit_commands = (\"quit\", \"pause\", \"exit\", \"goodbye\", \"bye\", \"later\")\n",
        "\n",
        "### Random starter question\n",
        "\n",
        "  random_questions = (\n",
        "\n",
        "\"Why are you here?\",\n",
        "\n",
        "\"Are there many humans like you?\",\n",
        "\n",
        "\"What do you consume for sustenance?\",\n",
        "\n",
        "\"Is there intelligent life on this planet?\",\n",
        "\n",
        "\"Does Earth have a leader?\",\n",
        "\n",
        "\"What planets have you visited?\",\n",
        "\n",
        "\"What technology do you have on this planet?\"\n",
        ")\n",
        "  def __init__(self):\n",
        "\n",
        "    self.alienbabble ={'describe_planet_intent': r'.*\\s*your planet.*',\n",
        "                       'answer why intent': r'why\\sare.*',\n",
        "                       'about intellipat': r'.\"\\s*intellipaat'\n",
        "                      }\n",
        "\n",
        "  def greet(self):\n",
        "\n",
        "    self.name= input(\"What is your name?\\n\")\n",
        "\n",
        "    will_help = input(\n",
        "\n",
        "      f\"Hi {self.name}, I am Rule-Bot. Will you help me learn about your planet?\\n\")\n",
        "\n",
        "    if will_help in self.negative_responses:\n",
        "      print(\"Ok, have a nice Earth day!\")\n",
        "      return\n",
        "    self.chat()\n",
        "\n",
        "  def make_exit(self,reply):\n",
        "      for command in self.exit_commands:\n",
        "          if reply == command:\n",
        "              print(\"Okay, have a nice Earth day!\")\n",
        "              return True\n",
        "\n",
        "  def chat(self):\n",
        "      reply=input(random.choice(self.random_questions)).lower()\n",
        "      while not self.make_exit(reply):\n",
        "        reply=input(self.match_reply(reply))\n",
        "\n",
        "  def match_reply(self,reply):\n",
        "    for key, value in self.alienbabble.items():\n",
        "      intent = key\n",
        "      regex_pattern = value\n",
        "      found_match= re.match(regex_pattern, reply)\n",
        "      if found_match and intent == 'describe_planet_intent':\n",
        "        return self.describe_planet_intent()\n",
        "\n",
        "      elif found_match and intent == 'answer_why_intent':\n",
        "        return self.answer_why_intent()\n",
        "\n",
        "      elif found_match and intent== 'about_intellipat':\n",
        "        return self.about_intellipat()\n",
        "\n",
        "    if not found_match:\n",
        "     return self.no_match_intent()\n",
        "\n",
        "  def describe_planet_intent(self):\n",
        "\n",
        "   responses= (\"My planet is a utopia of diverse organisms and species.\\n\", \"I am from Opidipus, the capital of the Wayward Galaxies.\\n\")\n",
        "\n",
        "   return random.choice(responses)\n",
        "\n",
        "  def answer_why_intent(self):\n",
        "\n",
        "   responses= (\"I come in peace\\n\", \"I am here to collect data on your planet and its inhabitants\\n\", \"I heard the coffee is good\\n\")\n",
        "\n",
        "   return random.choice(responses)\n",
        "\n",
        "  def about_intellipat(self):\n",
        "\n",
        "   responses=(\"Intellipaat is world's largest professional educational company\\n\", \"Intellipaat will make you learn concepts in the way never\\n \",\"Intellipaat is where your career and skill grows\\n\")\n",
        "\n",
        "   return random.choice(responses)\n",
        "\n",
        "  def no_match_intent(self):\n",
        "\n",
        "   responses=(\n",
        "\n",
        "\"Please tell me more.\\n\", \"Tell me more\\n\", \"Why do you say that?\\n\", \"I see. Can you elaborate?\\n\", \"Interesting. Can you tell me more?\\n\", \"I see. How do you think?\\n\", \"Why?\\n\",\n",
        "\n",
        "\"How do you think I feel when you say that?\\n\")\n",
        "\n",
        "   return random.choice(responses)\n",
        "\n",
        "AlienBot= Rulebot()\n",
        "AlienBot.greet()\n"
      ],
      "metadata": {
        "colab": {
          "base_uri": "https://localhost:8080/"
        },
        "id": "QKzND2Kbyj7r",
        "outputId": "16c7bf34-6977-405f-8fda-88297701be62"
      },
      "execution_count": 8,
      "outputs": [
        {
          "output_type": "stream",
          "name": "stdout",
          "text": [
            "What is your name?\n",
            "Vanshika\n",
            "Hi Vanshika, I am Rule-Bot. Will you help me learn about your planet?\n",
            "yes\n",
            "What technology do you have on this planet?Machine Learning\n",
            "Tell me more\n",
            "quit\n",
            "Okay, have a nice Earth day!\n"
          ]
        }
      ]
    }
  ]
}